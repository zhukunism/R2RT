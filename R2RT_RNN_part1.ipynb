{
 "cells": [
  {
   "cell_type": "code",
   "execution_count": 1,
   "metadata": {
    "collapsed": true
   },
   "outputs": [],
   "source": [
    "import numpy as np\n",
    "import tensorflow as tf\n",
    "%matplotlib inline\n",
    "import matplotlib.pyplot as plt"
   ]
  },
  {
   "cell_type": "code",
   "execution_count": 2,
   "metadata": {
    "collapsed": true
   },
   "outputs": [],
   "source": [
    "def gen_data(size=1000000):\n",
    "    X = np.array(np.random.choice(2, size=(size,)))\n",
    "    Y = []\n",
    "    for i in range(size):\n",
    "        threshold = 0.5\n",
    "        if X[i-3] == 1:\n",
    "            threshold += 0.5\n",
    "        if X[i-8] == 1:\n",
    "            threshold -= 0.25\n",
    "        if np.random.rand() > threshold:\n",
    "            Y.append(0)\n",
    "        else:\n",
    "            Y.append(1)\n",
    "    return X, np.array(Y)\n",
    "\n",
    "# adapted from https://github.com/tensorflow/tensorflow/blob/master/tensorflow/models/rnn/ptb/reader.py\n",
    "def gen_batch(raw_data, batch_size, num_steps):\n",
    "    raw_x, raw_y = raw_data\n",
    "    data_length = len(raw_x)\n",
    "\n",
    "    # partition raw data into batches and stack them vertically in a data matrix\n",
    "    batch_partition_length = data_length // batch_size\n",
    "    data_x = np.zeros([batch_size, batch_partition_length], dtype=np.int32)\n",
    "    data_y = np.zeros([batch_size, batch_partition_length], dtype=np.int32)\n",
    "    for i in range(batch_size):\n",
    "        data_x[i] = raw_x[batch_partition_length * i:batch_partition_length * (i + 1)]\n",
    "        data_y[i] = raw_y[batch_partition_length * i:batch_partition_length * (i + 1)]\n",
    "    # further divide batch partitions into num_steps for truncated backprop\n",
    "    epoch_size = batch_partition_length // num_steps\n",
    "\n",
    "    for i in range(epoch_size):\n",
    "        x = data_x[:, i * num_steps:(i + 1) * num_steps]\n",
    "        y = data_y[:, i * num_steps:(i + 1) * num_steps]\n",
    "        yield (x, y)\n",
    "\n",
    "def gen_epochs(num_epochs, num_steps):\n",
    "    for i in range(num_epochs):\n",
    "        yield gen_batch(gen_data(), batch_size, num_steps)"
   ]
  },
  {
   "cell_type": "code",
   "execution_count": 3,
   "metadata": {
    "collapsed": false
   },
   "outputs": [],
   "source": [
    "\"\"\"\n",
    "Definition of rnn_cell\n",
    "\n",
    "This is very similar to the __call__ method on Tensorflow's BasicRNNCell. See:\n",
    "https://github.com/tensorflow/tensorflow/blob/master/tensorflow/contrib/rnn/python/ops/core_rnn_cell_impl.py#L95\n",
    "\"\"\"\n",
    "\n",
    "def rnn_cell(rnn_input, state, state_size, num_classes):\n",
    "    with tf.variable_scope('rnn_cell', reuse=True):\n",
    "        W = tf.get_variable('W', [num_classes + state_size, state_size])\n",
    "        b = tf.get_variable('b', [state_size], initializer=tf.constant_initializer(0.0))\n",
    "    print(\"rnn_cell: W.name=%s b.name=%s\" % (W.name,b.name))\n",
    "    return tf.tanh(tf.matmul(tf.concat([rnn_input, state], 1), W) + b)"
   ]
  },
  {
   "cell_type": "code",
   "execution_count": 4,
   "metadata": {
    "collapsed": true
   },
   "outputs": [],
   "source": [
    "def output(rnn_outputs, state_size, num_classes, useDynamic=False):\n",
    "    \"\"\"\n",
    "    Apply a output layer to x_tensor using weight and bias\n",
    "    : x_tensor: A 2-D tensor where the first dimension is batch size.\n",
    "    : num_outputs: The number of output that the new tensor should be.\n",
    "    : return: A 2-D tensor where the second dimension is num_outputs.\n",
    "    \"\"\"\n",
    "    \n",
    "    #logits and predictions\n",
    "    with tf.variable_scope('softmax'):\n",
    "        W = tf.get_variable('W', [state_size, num_classes])\n",
    "        b = tf.get_variable('b', [num_classes], initializer=tf.constant_initializer(0.0))\n",
    "    if useDynamic:\n",
    "        print(\"rnn_outputs\",type(rnn_outputs),rnn_outputs.shape)\n",
    "        logits = tf.reshape(tf.matmul(tf.reshape(rnn_outputs, [-1, state_size]), W) + b, \\\n",
    "            [batch_size, num_steps, num_classes])\n",
    "    else:\n",
    "        print(\"rnn_outputs\",type(rnn_outputs),len(rnn_outputs))\n",
    "        logits = [tf.matmul(rnn_output, W) + b for rnn_output in rnn_outputs]\n",
    "    print(\"output: W.name=%s b.name=%s\" % (W.name,b.name))\n",
    "    # predictions = [tf.nn.softmax(logit) for logit in logits]\n",
    "\n",
    "    return logits"
   ]
  },
  {
   "cell_type": "code",
   "execution_count": 5,
   "metadata": {
    "collapsed": false
   },
   "outputs": [],
   "source": [
    "def cnn_net(x, batch_size, state_size, num_classes, useTF=False, useDynamic=False):\n",
    "    if useDynamic:\n",
    "        assert useTF == True\n",
    "    \n",
    "    init_state = tf.placeholder(tf.float32, shape=(batch_size, state_size), name='init_state')\n",
    "\n",
    "    \"\"\"\n",
    "    RNN Inputs\n",
    "    \"\"\"\n",
    "    # Turn our x placeholder into a list of one-hot tensors:\n",
    "    # rnn_inputs is a list of num_steps tensors with shape [batch_size, num_classes]\n",
    "    x_one_hot = tf.one_hot(x, num_classes)\n",
    "    if useDynamic:\n",
    "        rnn_inputs = x_one_hot\n",
    "        print(\"rnn_inputs\",type(rnn_inputs),rnn_inputs.shape)\n",
    "    else:\n",
    "        rnn_inputs = tf.unstack(x_one_hot, axis=1)\n",
    "        print(\"rnn_inputs\",type(rnn_inputs),len(rnn_inputs))\n",
    "\n",
    "    \"\"\"\n",
    "    Adding rnn_cells to graph\n",
    "\n",
    "    This is a simplified version of the \"static_rnn\" function from Tensorflow's api. See:\n",
    "    https://github.com/tensorflow/tensorflow/blob/master/tensorflow/contrib/rnn/python/ops/core_rnn.py#L41\n",
    "    Note: In practice, using \"dynamic_rnn\" is a better choice that the \"static_rnn\":\n",
    "    https://github.com/tensorflow/tensorflow/blob/master/tensorflow/python/ops/rnn.py#L390\n",
    "    \"\"\"\n",
    "    if useTF:\n",
    "        cell = tf.contrib.rnn.BasicRNNCell(state_size)\n",
    "        print(\"BasicRNNCell: \",type(cell))\n",
    "        if useDynamic:\n",
    "            rnn_outputs, final_state = tf.nn.dynamic_rnn(cell, rnn_inputs, initial_state=init_state)\n",
    "        else:\n",
    "            rnn_outputs, final_state = tf.contrib.rnn.static_rnn(cell, rnn_inputs, initial_state=init_state)\n",
    "    else:\n",
    "        # create cnn variables to reuse\n",
    "        with tf.variable_scope('rnn_cell'):\n",
    "            W = tf.get_variable('W', [num_classes + state_size, state_size])\n",
    "            b = tf.get_variable('b', [state_size], initializer=tf.constant_initializer(0.0))\n",
    "\n",
    "        state = init_state\n",
    "        rnn_outputs = []\n",
    "        for rnn_input in rnn_inputs:\n",
    "            state = rnn_cell(rnn_input, state, state_size, num_classes)\n",
    "            rnn_outputs.append(state)\n",
    "        final_state = rnn_outputs[-1]\n",
    "\n",
    "        print(\"state\", type(state), state.shape)\n",
    "        \n",
    "    print(\"init_state\", type(init_state), init_state.shape)\n",
    "    print(\"final_state\", type(final_state), final_state.shape)\n",
    "        \n",
    "    logits = output(rnn_outputs, state_size, num_classes, useDynamic)\n",
    "    \n",
    "    if useDynamic:\n",
    "        losses = tf.nn.sparse_softmax_cross_entropy_with_logits(labels=y, logits=logits)\n",
    "    else:\n",
    "        # Turn our y placeholder into a list of labels\n",
    "        y_as_list = tf.unstack(y, num=num_steps, axis=1)\n",
    "        print(\"y_as_list\",type(y_as_list),len(y_as_list))\n",
    "\n",
    "        #losses and train_step\n",
    "        losses = [tf.nn.sparse_softmax_cross_entropy_with_logits(labels=label, logits=logit) for \\\n",
    "                  logit, label in zip(logits, y_as_list)]\n",
    "\n",
    "    return [final_state, logits, losses]"
   ]
  },
  {
   "cell_type": "code",
   "execution_count": 6,
   "metadata": {
    "collapsed": true
   },
   "outputs": [],
   "source": [
    "\"\"\"\n",
    "Train the network\n",
    "\"\"\"\n",
    "\n",
    "def train_network(final_state, logits, losses, total_loss, num_epochs, num_steps, state_size, verbose=True):\n",
    "    with tf.Session() as sess:\n",
    "        sess.run(tf.global_variables_initializer())\n",
    "        training_losses = []\n",
    "        for idx, epoch in enumerate(gen_epochs(num_epochs, num_steps)):\n",
    "            training_loss = 0\n",
    "            training_state = np.zeros((batch_size, state_size))\n",
    "            if verbose:\n",
    "                print(\"\\nEPOCH\", idx)\n",
    "            for step, (X, Y) in enumerate(epoch):\n",
    "                tr_losses, training_loss_, training_state, _ = \\\n",
    "                    sess.run([losses,\n",
    "                              total_loss,\n",
    "                              final_state,\n",
    "                              train_step],\n",
    "                                  feed_dict={'x:0':X, 'y:0':Y, 'init_state:0':training_state})\n",
    "                training_loss += training_loss_\n",
    "                if step % 100 == 0 and step > 0:\n",
    "                    if verbose:\n",
    "                        print(\"Average loss at step\", step,\n",
    "                              \"for last 250 steps:\", training_loss/100)\n",
    "                    training_losses.append(training_loss/100)\n",
    "                    training_loss = 0\n",
    "\n",
    "    return training_losses"
   ]
  },
  {
   "cell_type": "code",
   "execution_count": 7,
   "metadata": {
    "collapsed": false
   },
   "outputs": [
    {
     "name": "stdout",
     "output_type": "stream",
     "text": [
      "x <class 'tensorflow.python.framework.ops.Tensor'> (200, 10)\n",
      "y <class 'tensorflow.python.framework.ops.Tensor'> (200, 10)\n",
      "rnn_inputs <class 'tensorflow.python.framework.ops.Tensor'> (200, 10, 2)\n",
      "BasicRNNCell:  <class 'tensorflow.contrib.rnn.python.ops.core_rnn_cell_impl.BasicRNNCell'>\n",
      "init_state <class 'tensorflow.python.framework.ops.Tensor'> (200, 16)\n",
      "final_state <class 'tensorflow.python.framework.ops.Tensor'> (200, 16)\n",
      "rnn_outputs <class 'tensorflow.python.framework.ops.Tensor'> (200, 10, 16)\n",
      "output: W.name=softmax/W:0 b.name=softmax/b:0\n"
     ]
    }
   ],
   "source": [
    "# Global config variables\n",
    "num_steps = 10 # number of truncated backprop steps ('n' in the discussion above)\n",
    "batch_size = 200\n",
    "num_classes = 2\n",
    "state_size = 16\n",
    "learning_rate = 0.1\n",
    "useTF = True\n",
    "useDynamic = True\n",
    "\n",
    "\"\"\"\n",
    "Predictions, loss, training step\n",
    "\n",
    "Losses is similar to the \"sequence_loss\"\n",
    "function from Tensorflow's API, except that here we are using a list of 2D tensors, instead of a 3D tensor. See:\n",
    "https://github.com/tensorflow/tensorflow/blob/master/tensorflow/contrib/seq2seq/python/ops/loss.py#L30\n",
    "\"\"\"\n",
    "# Remove previous weights, bias, inputs, etc..\n",
    "tf.reset_default_graph()\n",
    "\n",
    "x = tf.placeholder(tf.int32, [batch_size, num_steps], name='x')\n",
    "y = tf.placeholder(tf.int32, [batch_size, num_steps], name='y')\n",
    "print(\"x\",type(x),x.shape)\n",
    "print(\"y\",type(y),y.shape)\n",
    "\n",
    "final_state, logits, losses = cnn_net(x, batch_size, state_size, num_classes, useTF=useTF, useDynamic=useDynamic)\n",
    "predictions = tf.nn.softmax(logits)\n",
    "\n",
    "total_loss = tf.reduce_mean(losses)\n",
    "train_step = tf.train.AdagradOptimizer(learning_rate).minimize(total_loss)"
   ]
  },
  {
   "cell_type": "code",
   "execution_count": 8,
   "metadata": {
    "collapsed": false,
    "scrolled": false
   },
   "outputs": [
    {
     "name": "stdout",
     "output_type": "stream",
     "text": [
      "\n",
      "EPOCH 0\n",
      "Average loss at step 100 for last 250 steps: 0.516372788846\n",
      "Average loss at step 200 for last 250 steps: 0.482183126211\n",
      "Average loss at step 300 for last 250 steps: 0.478338264227\n",
      "Average loss at step 400 for last 250 steps: 0.472839602232\n"
     ]
    },
    {
     "data": {
      "text/plain": [
       "[<matplotlib.lines.Line2D at 0xd5b7278>]"
      ]
     },
     "execution_count": 8,
     "metadata": {},
     "output_type": "execute_result"
    },
    {
     "data": {
      "image/png": "[encoded data removed]",
      "text/plain": [
       "<matplotlib.figure.Figure at 0x459080>"
      ]
     },
     "metadata": {},
     "output_type": "display_data"
    }
   ],
   "source": [
    "num_epochs = 1\n",
    "training_losses = train_network(final_state, logits, losses, total_loss, num_epochs,num_steps,state_size)\n",
    "plt.plot(training_losses)"
   ]
  }
 ],
 "metadata": {
  "kernelspec": {
   "display_name": "Python 3",
   "language": "python",
   "name": "python3"
  },
  "language_info": {
   "codemirror_mode": {
    "name": "ipython",
    "version": 3
   },
   "file_extension": ".py",
   "mimetype": "text/x-python",
   "name": "python",
   "nbconvert_exporter": "python",
   "pygments_lexer": "ipython3",
   "version": "3.5.3"
  }
 },
 "nbformat": 4,
 "nbformat_minor": 2
}
